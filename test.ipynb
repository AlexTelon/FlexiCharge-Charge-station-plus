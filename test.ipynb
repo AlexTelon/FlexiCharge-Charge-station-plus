{
 "cells": [
  {
   "cell_type": "code",
   "execution_count": 1,
   "metadata": {},
   "outputs": [],
   "source": [
    "import websockets as ws\n",
    "import json\n",
    "from datetime import datetime\n",
    "import time\n",
    "import math\n"
   ]
  },
  {
   "cell_type": "code",
   "execution_count": 2,
   "metadata": {},
   "outputs": [],
   "source": [
    "async def send_boot_notification(websocket):\n",
    "        \n",
    "        print(\"IM BOOT\")\n",
    "        msg = [2, \"0jdsEnnyo2kpCP8FLfHlNpbvQXosR5ZNlh8v\", \"BootNotification\", {\n",
    "            \"chargePointVendor\": \"AVT-Company\",\n",
    "            \"chargePointModel\": \"AVT-Express\",\n",
    "            \"chargePointSerialNumber\": \"avt.001.13.1\",\n",
    "            \"chargeBoxSerialNumber\": \"avt.001.13.1.01\",\n",
    "            \"firmwareVersion\": \"0.9.87\",\n",
    "            \"iccid\": \"\",\n",
    "            \"imsi\": \"\",\n",
    "            \"meterType\": \"AVT NQC-ACDC\",\n",
    "            \"meterSerialNumber\": \"avt.001.13.1.01\"}]\n",
    "        msg_send = json.dumps(msg)\n",
    "        await websocket.send(msg_send)\n",
    "        print(\"SENT\")"
   ]
  },
  {
   "cell_type": "code",
   "execution_count": 3,
   "metadata": {},
   "outputs": [],
   "source": [
    "from datetime import datetime\n",
    "\n",
    "\n",
    "async def send_data_transfer_request(websocket, message):\n",
    "    dt = datetime.now()\n",
    "    conf_msg = [3,\n",
    "                    message[1],\n",
    "                    \"DataTransfer\",\n",
    "                    {\"status\": \"Accepted\"}]\n",
    "    conf_send = json.dumps(conf_msg)\n",
    "    print(\"Sending confirmation: \" + conf_send)\n",
    "    try:\n",
    "        await websocket.send(conf_send)\n",
    "        print(\"Message went away\")\n",
    "    except Exception as e:\n",
    "        print(str(e))"
   ]
  },
  {
   "cell_type": "code",
   "execution_count": 4,
   "metadata": {},
   "outputs": [],
   "source": [
    "async def listen_for_response(websocket):\n",
    "    while True:\n",
    "        try:\n",
    "            json_formatted_message = await websocket.recv()\n",
    "            message = json.loads(json_formatted_message)\n",
    "            print(\"Got message:\")\n",
    "            print(message)\n",
    "            if message[2] == \"DataTransfer\":\n",
    "                await send_data_transfer_request(websocket,message)\n",
    "        except Exception as e:\n",
    "            print(str(e))\n",
    "    "
   ]
  },
  {
   "cell_type": "code",
   "execution_count": 5,
   "metadata": {},
   "outputs": [
    {
     "name": "stdout",
     "output_type": "stream",
     "text": [
      "success\n",
      "IM BOOT\n",
      "fail\n",
      "no close frame received or sent\n"
     ]
    }
   ],
   "source": [
    "try:\n",
    "    async with ws.connect(\n",
    "        'ws://18.202.253.30:1337/charger/testnumber13/',\n",
    "        subprotocols=['ocpp1.6'],\n",
    "        ping_interval=5,\n",
    "        timeout = None\n",
    "        ) as ws:\n",
    "            websocket = ws\n",
    "            print(\"success\")\n",
    "            await send_boot_notification(websocket)\n",
    "            await listen_for_response(websocket)\n",
    "except Exception as e:\n",
    "    print(\"fail\")\n",
    "    print(str(e))"
   ]
  }
 ],
 "metadata": {
  "kernelspec": {
   "display_name": "Python 3.9.13 64-bit (microsoft store)",
   "language": "python",
   "name": "python3"
  },
  "language_info": {
   "codemirror_mode": {
    "name": "ipython",
    "version": 3
   },
   "file_extension": ".py",
   "mimetype": "text/x-python",
   "name": "python",
   "nbconvert_exporter": "python",
   "pygments_lexer": "ipython3",
   "version": "3.9.13"
  },
  "orig_nbformat": 4,
  "vscode": {
   "interpreter": {
    "hash": "fd24174a7b52b68020748e1a18e59e9fab89d719c1d67347cf3ee866e1771207"
   }
  }
 },
 "nbformat": 4,
 "nbformat_minor": 2
}
