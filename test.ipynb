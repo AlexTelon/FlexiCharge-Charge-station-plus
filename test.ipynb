{
 "cells": [
  {
   "cell_type": "code",
   "execution_count": 106,
   "metadata": {},
   "outputs": [],
   "source": [
    "import websockets as ws\n",
    "import json\n",
    "from datetime import datetime\n",
    "import time\n",
    "import math\n"
   ]
  },
  {
   "cell_type": "code",
   "execution_count": 9,
   "metadata": {},
   "outputs": [
    {
     "ename": "RuntimeError",
     "evalue": "asyncio.run() cannot be called from a running event loop",
     "output_type": "error",
     "traceback": [
      "\u001b[1;31m---------------------------------------------------------------------------\u001b[0m",
      "\u001b[1;31mRuntimeError\u001b[0m                              Traceback (most recent call last)",
      "Cell \u001b[1;32mIn [9], line 4\u001b[0m\n\u001b[0;32m      1\u001b[0m \u001b[38;5;28;01mimport\u001b[39;00m \u001b[38;5;21;01masyncio\u001b[39;00m\n\u001b[0;32m      2\u001b[0m \u001b[38;5;28;01mfrom\u001b[39;00m \u001b[38;5;21;01mwebsocket_communication\u001b[39;00m \u001b[38;5;28;01mimport\u001b[39;00m WebSocket\n\u001b[1;32m----> 4\u001b[0m asyncio\u001b[38;5;241m.\u001b[39mrun(WebSocket\u001b[38;5;241m.\u001b[39mconnect)\n",
      "File \u001b[1;32mC:\\Program Files\\WindowsApps\\PythonSoftwareFoundation.Python.3.10_3.10.2032.0_x64__qbz5n2kfra8p0\\lib\\asyncio\\runners.py:33\u001b[0m, in \u001b[0;36mrun\u001b[1;34m(main, debug)\u001b[0m\n\u001b[0;32m      9\u001b[0m \u001b[39m\"\"\"Execute the coroutine and return the result.\u001b[39;00m\n\u001b[0;32m     10\u001b[0m \n\u001b[0;32m     11\u001b[0m \u001b[39mThis function runs the passed coroutine, taking care of\u001b[39;00m\n\u001b[1;32m   (...)\u001b[0m\n\u001b[0;32m     30\u001b[0m \u001b[39m    asyncio.run(main())\u001b[39;00m\n\u001b[0;32m     31\u001b[0m \u001b[39m\"\"\"\u001b[39;00m\n\u001b[0;32m     32\u001b[0m \u001b[39mif\u001b[39;00m events\u001b[39m.\u001b[39m_get_running_loop() \u001b[39mis\u001b[39;00m \u001b[39mnot\u001b[39;00m \u001b[39mNone\u001b[39;00m:\n\u001b[1;32m---> 33\u001b[0m     \u001b[39mraise\u001b[39;00m \u001b[39mRuntimeError\u001b[39;00m(\n\u001b[0;32m     34\u001b[0m         \u001b[39m\"\u001b[39m\u001b[39masyncio.run() cannot be called from a running event loop\u001b[39m\u001b[39m\"\u001b[39m)\n\u001b[0;32m     36\u001b[0m \u001b[39mif\u001b[39;00m \u001b[39mnot\u001b[39;00m coroutines\u001b[39m.\u001b[39miscoroutine(main):\n\u001b[0;32m     37\u001b[0m     \u001b[39mraise\u001b[39;00m \u001b[39mValueError\u001b[39;00m(\u001b[39m\"\u001b[39m\u001b[39ma coroutine was expected, got \u001b[39m\u001b[39m{!r}\u001b[39;00m\u001b[39m\"\u001b[39m\u001b[39m.\u001b[39mformat(main))\n",
      "\u001b[1;31mRuntimeError\u001b[0m: asyncio.run() cannot be called from a running event loop"
     ]
    }
   ],
   "source": [
    "import asyncio\n",
    "from websocket_communication import WebSocket\n",
    "\n",
    "asyncio.run(WebSocket.connect)"
   ]
  },
  {
   "cell_type": "code",
   "execution_count": 107,
   "metadata": {},
   "outputs": [],
   "source": [
    "async def send_boot_notification(websocket):\n",
    "        \n",
    "        print(\"IM BOOT\")\n",
    "        msg = [2, \"0jdsEnnyo2kpCP8FLfHlNpbvQXosR5ZNlh8v\", \"BootNotification\", {\n",
    "            \"chargePointVendor\": \"AVT-Company\",\n",
    "            \"chargePointModel\": \"AVT-Express\",\n",
    "            \"chargePointSerialNumber\": \"avt.001.13.1\",\n",
    "            \"chargeBoxSerialNumber\": \"avt.001.13.1.01\",\n",
    "            \"firmwareVersion\": \"0.9.87\",\n",
    "            \"iccid\": \"\",\n",
    "            \"imsi\": \"\",\n",
    "            \"meterType\": \"AVT NQC-ACDC\",\n",
    "            \"meterSerialNumber\": \"avt.001.13.1.01\"}]\n",
    "        msg_send = json.dumps(msg)\n",
    "        await websocket.send(msg_send)\n",
    "        print(\"SENT\")"
   ]
  },
  {
   "cell_type": "code",
   "execution_count": 108,
   "metadata": {},
   "outputs": [],
   "source": [
    "from datetime import datetime\n",
    "\n",
    "\n",
    "async def send_data_transfer_request(websocket):\n",
    "    dt = datetime.now()\n",
    "    conf_msg = [2,\n",
    "                    \"com.flexicharge\",\n",
    "                    \"DataTransfer\",\n",
    "                    {\"status\": \"Accepted\"}]\n",
    "    conf_send = json.dumps(conf_msg)\n",
    "    print(\"Sending confirmation: \" + conf_send)\n",
    "    try:\n",
    "        await websocket.send(conf_send)\n",
    "        print(\"Message went away\")\n",
    "    except Exception as e:\n",
    "        print(str(e))"
   ]
  },
  {
   "cell_type": "code",
   "execution_count": 109,
   "metadata": {},
   "outputs": [],
   "source": [
    "async def listen_for_response(websocket):\n",
    "    while True:\n",
    "        try:\n",
    "            json_formatted_message = await websocket.recv()\n",
    "            message = json.loads(json_formatted_message)\n",
    "            print(\"Got message:\")\n",
    "            print(message)\n",
    "            if message[2] == \"DataTransfer\":\n",
    "                await send_confirmation(websocket,message)\n",
    "        except Exception as e:\n",
    "            print(str(e))\n",
    "    "
   ]
  },
  {
   "cell_type": "code",
   "execution_count": 110,
   "metadata": {},
   "outputs": [
    {
     "name": "stdout",
     "output_type": "stream",
     "text": [
      "success\n",
      "IM BOOT\n",
      "SENT\n",
      "Got message:\n",
      "[3, '0jdsEnnyo2kpCP8FLfHlNpbvQXosR5ZNlh8vASDASD', 'BootNotification', {'status': 'Accepted', 'currentTime': 1664265312, 'interval': 86400}]\n",
      "Got message:\n",
      "[2, '100009DataTransfer1664265312217', 'DataTransfer', {'vendorId': 'com.flexicharge', 'messageId': 'BootData', 'data': '{\"chargerId\":100009,\"chargingPrice\":\"7500.00\"}'}]\n",
      "Sending confirmation: [3, \"100009DataTransfer1664265312217\", \"DataTransfer\", {\"status\": \"Accepted\"}]\n",
      "Message went away\n",
      "Got message:\n",
      "[4, '100009DataTransfer1664265312217', 'GenericError', 'Could not found a previous conversation with this unique id.', {}]\n"
     ]
    },
    {
     "ename": "CancelledError",
     "evalue": "",
     "output_type": "error",
     "traceback": [
      "\u001b[1;31m---------------------------------------------------------------------------\u001b[0m",
      "\u001b[1;31mCancelledError\u001b[0m                            Traceback (most recent call last)",
      "\u001b[1;32mc:\\Users\\logik\\OneDrive - Jonkoping University\\Dokument\\GitHub\\FlexiCharge-Charge-station-plus\\test.ipynb Cell 6\u001b[0m in \u001b[0;36m<cell line: 1>\u001b[1;34m()\u001b[0m\n\u001b[0;32m      <a href='vscode-notebook-cell:/c%3A/Users/logik/OneDrive%20-%20Jonkoping%20University/Dokument/GitHub/FlexiCharge-Charge-station-plus/test.ipynb#W4sZmlsZQ%3D%3D?line=8'>9</a>\u001b[0m             \u001b[39mprint\u001b[39m(\u001b[39m\"\u001b[39m\u001b[39msuccess\u001b[39m\u001b[39m\"\u001b[39m)\n\u001b[0;32m     <a href='vscode-notebook-cell:/c%3A/Users/logik/OneDrive%20-%20Jonkoping%20University/Dokument/GitHub/FlexiCharge-Charge-station-plus/test.ipynb#W4sZmlsZQ%3D%3D?line=9'>10</a>\u001b[0m             \u001b[39mawait\u001b[39;00m send_boot_notification(websocket)\n\u001b[1;32m---> <a href='vscode-notebook-cell:/c%3A/Users/logik/OneDrive%20-%20Jonkoping%20University/Dokument/GitHub/FlexiCharge-Charge-station-plus/test.ipynb#W4sZmlsZQ%3D%3D?line=10'>11</a>\u001b[0m             \u001b[39mawait\u001b[39;00m listen_for_response(websocket)\n\u001b[0;32m     <a href='vscode-notebook-cell:/c%3A/Users/logik/OneDrive%20-%20Jonkoping%20University/Dokument/GitHub/FlexiCharge-Charge-station-plus/test.ipynb#W4sZmlsZQ%3D%3D?line=11'>12</a>\u001b[0m \u001b[39mexcept\u001b[39;00m \u001b[39mException\u001b[39;00m \u001b[39mas\u001b[39;00m e:\n\u001b[0;32m     <a href='vscode-notebook-cell:/c%3A/Users/logik/OneDrive%20-%20Jonkoping%20University/Dokument/GitHub/FlexiCharge-Charge-station-plus/test.ipynb#W4sZmlsZQ%3D%3D?line=12'>13</a>\u001b[0m     \u001b[39mprint\u001b[39m(\u001b[39m\"\u001b[39m\u001b[39mfail\u001b[39m\u001b[39m\"\u001b[39m)\n",
      "\u001b[1;32mc:\\Users\\logik\\OneDrive - Jonkoping University\\Dokument\\GitHub\\FlexiCharge-Charge-station-plus\\test.ipynb Cell 6\u001b[0m in \u001b[0;36mlisten_for_response\u001b[1;34m(websocket)\u001b[0m\n\u001b[0;32m      <a href='vscode-notebook-cell:/c%3A/Users/logik/OneDrive%20-%20Jonkoping%20University/Dokument/GitHub/FlexiCharge-Charge-station-plus/test.ipynb#W4sZmlsZQ%3D%3D?line=1'>2</a>\u001b[0m \u001b[39mwhile\u001b[39;00m \u001b[39mTrue\u001b[39;00m:\n\u001b[0;32m      <a href='vscode-notebook-cell:/c%3A/Users/logik/OneDrive%20-%20Jonkoping%20University/Dokument/GitHub/FlexiCharge-Charge-station-plus/test.ipynb#W4sZmlsZQ%3D%3D?line=2'>3</a>\u001b[0m     \u001b[39mtry\u001b[39;00m:\n\u001b[1;32m----> <a href='vscode-notebook-cell:/c%3A/Users/logik/OneDrive%20-%20Jonkoping%20University/Dokument/GitHub/FlexiCharge-Charge-station-plus/test.ipynb#W4sZmlsZQ%3D%3D?line=3'>4</a>\u001b[0m         json_formatted_message \u001b[39m=\u001b[39m \u001b[39mawait\u001b[39;00m websocket\u001b[39m.\u001b[39mrecv()\n\u001b[0;32m      <a href='vscode-notebook-cell:/c%3A/Users/logik/OneDrive%20-%20Jonkoping%20University/Dokument/GitHub/FlexiCharge-Charge-station-plus/test.ipynb#W4sZmlsZQ%3D%3D?line=4'>5</a>\u001b[0m         message \u001b[39m=\u001b[39m json\u001b[39m.\u001b[39mloads(json_formatted_message)\n\u001b[0;32m      <a href='vscode-notebook-cell:/c%3A/Users/logik/OneDrive%20-%20Jonkoping%20University/Dokument/GitHub/FlexiCharge-Charge-station-plus/test.ipynb#W4sZmlsZQ%3D%3D?line=5'>6</a>\u001b[0m         \u001b[39mprint\u001b[39m(\u001b[39m\"\u001b[39m\u001b[39mGot message:\u001b[39m\u001b[39m\"\u001b[39m)\n",
      "File \u001b[1;32m~\\AppData\\Local\\Packages\\PythonSoftwareFoundation.Python.3.9_qbz5n2kfra8p0\\LocalCache\\local-packages\\Python39\\site-packages\\websockets\\legacy\\protocol.py:536\u001b[0m, in \u001b[0;36mWebSocketCommonProtocol.recv\u001b[1;34m(self)\u001b[0m\n\u001b[0;32m    532\u001b[0m \u001b[39mself\u001b[39m\u001b[39m.\u001b[39m_pop_message_waiter \u001b[39m=\u001b[39m pop_message_waiter\n\u001b[0;32m    533\u001b[0m \u001b[39mtry\u001b[39;00m:\n\u001b[0;32m    534\u001b[0m     \u001b[39m# If asyncio.wait() is canceled, it doesn't cancel\u001b[39;00m\n\u001b[0;32m    535\u001b[0m     \u001b[39m# pop_message_waiter and self.transfer_data_task.\u001b[39;00m\n\u001b[1;32m--> 536\u001b[0m     \u001b[39mawait\u001b[39;00m asyncio\u001b[39m.\u001b[39mwait(\n\u001b[0;32m    537\u001b[0m         [pop_message_waiter, \u001b[39mself\u001b[39m\u001b[39m.\u001b[39mtransfer_data_task],\n\u001b[0;32m    538\u001b[0m         return_when\u001b[39m=\u001b[39masyncio\u001b[39m.\u001b[39mFIRST_COMPLETED,\n\u001b[0;32m    539\u001b[0m         \u001b[39m*\u001b[39m\u001b[39m*\u001b[39mloop_if_py_lt_38(\u001b[39mself\u001b[39m\u001b[39m.\u001b[39mloop),\n\u001b[0;32m    540\u001b[0m     )\n\u001b[0;32m    541\u001b[0m \u001b[39mfinally\u001b[39;00m:\n\u001b[0;32m    542\u001b[0m     \u001b[39mself\u001b[39m\u001b[39m.\u001b[39m_pop_message_waiter \u001b[39m=\u001b[39m \u001b[39mNone\u001b[39;00m\n",
      "File \u001b[1;32mC:\\Program Files\\WindowsApps\\PythonSoftwareFoundation.Python.3.9_3.9.3568.0_x64__qbz5n2kfra8p0\\lib\\asyncio\\tasks.py:413\u001b[0m, in \u001b[0;36mwait\u001b[1;34m(fs, loop, timeout, return_when)\u001b[0m\n\u001b[0;32m    406\u001b[0m     warnings\u001b[39m.\u001b[39mwarn(\u001b[39m\"\u001b[39m\u001b[39mThe explicit passing of coroutine objects to \u001b[39m\u001b[39m\"\u001b[39m\n\u001b[0;32m    407\u001b[0m                   \u001b[39m\"\u001b[39m\u001b[39masyncio.wait() is deprecated since Python 3.8, and \u001b[39m\u001b[39m\"\u001b[39m\n\u001b[0;32m    408\u001b[0m                   \u001b[39m\"\u001b[39m\u001b[39mscheduled for removal in Python 3.11.\u001b[39m\u001b[39m\"\u001b[39m,\n\u001b[0;32m    409\u001b[0m                   \u001b[39mDeprecationWarning\u001b[39;00m, stacklevel\u001b[39m=\u001b[39m\u001b[39m2\u001b[39m)\n\u001b[0;32m    411\u001b[0m fs \u001b[39m=\u001b[39m {ensure_future(f, loop\u001b[39m=\u001b[39mloop) \u001b[39mfor\u001b[39;00m f \u001b[39min\u001b[39;00m fs}\n\u001b[1;32m--> 413\u001b[0m \u001b[39mreturn\u001b[39;00m \u001b[39mawait\u001b[39;00m _wait(fs, timeout, return_when, loop)\n",
      "File \u001b[1;32mC:\\Program Files\\WindowsApps\\PythonSoftwareFoundation.Python.3.9_3.9.3568.0_x64__qbz5n2kfra8p0\\lib\\asyncio\\tasks.py:525\u001b[0m, in \u001b[0;36m_wait\u001b[1;34m(fs, timeout, return_when, loop)\u001b[0m\n\u001b[0;32m    522\u001b[0m     f\u001b[39m.\u001b[39madd_done_callback(_on_completion)\n\u001b[0;32m    524\u001b[0m \u001b[39mtry\u001b[39;00m:\n\u001b[1;32m--> 525\u001b[0m     \u001b[39mawait\u001b[39;00m waiter\n\u001b[0;32m    526\u001b[0m \u001b[39mfinally\u001b[39;00m:\n\u001b[0;32m    527\u001b[0m     \u001b[39mif\u001b[39;00m timeout_handle \u001b[39mis\u001b[39;00m \u001b[39mnot\u001b[39;00m \u001b[39mNone\u001b[39;00m:\n",
      "\u001b[1;31mCancelledError\u001b[0m: "
     ]
    }
   ],
   "source": [
    "try:\n",
    "    async with ws.connect(\n",
    "        'ws://18.202.253.30:1337/testnumber13',\n",
    "        subprotocols=['ocpp1.6'],\n",
    "        ping_interval=5,\n",
    "        timeout = None\n",
    "        ) as ws:\n",
    "            websocket = ws\n",
    "            print(\"success\")\n",
    "            await send_boot_notification(websocket)\n",
    "            await listen_for_response(websocket)\n",
    "except Exception as e:\n",
    "    print(\"fail\")\n",
    "    print(str(e))"
   ]
  }
 ],
 "metadata": {
  "kernelspec": {
   "display_name": "Python 3.10.7 64-bit (microsoft store)",
   "language": "python",
   "name": "python3"
  },
  "language_info": {
   "codemirror_mode": {
    "name": "ipython",
    "version": 3
   },
   "file_extension": ".py",
   "mimetype": "text/x-python",
   "name": "python",
   "nbconvert_exporter": "python",
   "pygments_lexer": "ipython3",
   "version": "3.10.7"
  },
  "orig_nbformat": 4,
  "vscode": {
   "interpreter": {
    "hash": "c23bb6ddd984476152dad8ba0274546a3172cf440221e480f8607901d64c23c6"
   }
  }
 },
 "nbformat": 4,
 "nbformat_minor": 2
}
